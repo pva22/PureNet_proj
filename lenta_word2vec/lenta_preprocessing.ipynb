{
 "cells": [
  {
   "cell_type": "code",
   "execution_count": 1,
   "metadata": {
    "collapsed": true
   },
   "outputs": [],
   "source": [
    "import pandas as pd\n",
    "import numpy as np\n",
    "import matplotlib.pyplot as plt\n",
    "import nltk \n",
    "import os\n",
    "import csv, bz2\n",
    "import tqdm\n",
    "from tqdm import tqdm_notebook\n",
    "from nltk.tokenize import sent_tokenize, word_tokenize\n",
    "from nltk.corpus import stopwords\n",
    "import pickle\n",
    "import json\n",
    "import re"
   ]
  },
  {
   "cell_type": "markdown",
   "metadata": {},
   "source": [
    "  "
   ]
  },
  {
   "cell_type": "code",
   "execution_count": 2,
   "metadata": {
    "collapsed": true
   },
   "outputs": [],
   "source": [
    "sentences = []"
   ]
  },
  {
   "cell_type": "code",
   "execution_count": 4,
   "metadata": {
    "scrolled": true
   },
   "outputs": [
    {
     "name": "stderr",
     "output_type": "stream",
     "text": [
      "Widget Javascript not detected.  It may not be installed or enabled properly.\n"
     ]
    },
    {
     "data": {
      "application/vnd.jupyter.widget-view+json": {
       "model_id": "d91846b769994a36ac68d84c35a141a7"
      }
     },
     "metadata": {},
     "output_type": "display_data"
    }
   ],
   "source": [
    "size = 10**3\n",
    "for chunk in tqdm_notebook(pd.read_csv(\"../data/news_lenta.csv.bz2\", compression='bz2', chunksize=size)):\n",
    "    for a in chunk.text:\n",
    "        for i in sent_tokenize(a):\n",
    "            sentences.append(word_tokenize(i))"
   ]
  },
  {
   "cell_type": "markdown",
   "metadata": {},
   "source": [
    "###### save sentences"
   ]
  },
  {
   "cell_type": "code",
   "execution_count": 6,
   "metadata": {
    "collapsed": true
   },
   "outputs": [],
   "source": [
    "with open('sentences_1.txt', 'w') as filehandle:  \n",
    "    json.dump(sentences[0:2000000], filehandle)"
   ]
  },
  {
   "cell_type": "code",
   "execution_count": 7,
   "metadata": {
    "collapsed": true
   },
   "outputs": [],
   "source": [
    "with open('sentences_2.txt', 'w') as filehandle:  \n",
    "    json.dump(sentences[2000000:4000000], filehandle)"
   ]
  },
  {
   "cell_type": "code",
   "execution_count": 8,
   "metadata": {
    "collapsed": true
   },
   "outputs": [],
   "source": [
    "with open('sentences_3.txt', 'w') as filehandle:  \n",
    "    json.dump(sentences[4000000:6000000], filehandle)"
   ]
  },
  {
   "cell_type": "code",
   "execution_count": 9,
   "metadata": {
    "collapsed": true
   },
   "outputs": [],
   "source": [
    "with open('sentences_4.txt', 'w') as filehandle:  \n",
    "    json.dump(sentences[6000000:7797905], filehandle)"
   ]
  },
  {
   "cell_type": "markdown",
   "metadata": {},
   "source": [
    "###### save all words"
   ]
  },
  {
   "cell_type": "code",
   "execution_count": 10,
   "metadata": {
    "collapsed": true
   },
   "outputs": [],
   "source": [
    "a_w_1 = all_words[0:100000]\n",
    "a_w_2 = all_words[100000:200000]\n",
    "a_w_3 = all_words[200000:300000]\n",
    "a_w_4 = all_words[300000:400000]\n",
    "a_w_5 = all_words[400000:500000]\n",
    "a_w_6 = all_words[500000:600000]\n",
    "a_w_7 = all_words[600000:699777]"
   ]
  },
  {
   "cell_type": "code",
   "execution_count": 17,
   "metadata": {
    "collapsed": true
   },
   "outputs": [],
   "source": [
    "with open('a_w_1.txt', 'w') as filehandle:  \n",
    "    json.dump(a_w_1, filehandle)\n",
    "with open('a_w_2.txt', 'w') as filehandle:  \n",
    "    json.dump(a_w_2, filehandle)\n",
    "with open('a_w_3.txt', 'w') as filehandle:  \n",
    "    json.dump(a_w_3, filehandle)\n",
    "with open('a_w_4.txt', 'w') as filehandle:  \n",
    "    json.dump(a_w_4, filehandle)\n",
    "with open('a_w_5.txt', 'w') as filehandle:  \n",
    "    json.dump(a_w_5, filehandle)\n",
    "with open('a_w_6.txt', 'w') as filehandle:  \n",
    "    json.dump(a_w_6, filehandle)\n",
    "with open('a_w_7.txt', 'w') as filehandle:  \n",
    "    json.dump(a_w_7, filehandle)"
   ]
  },
  {
   "cell_type": "markdown",
   "metadata": {},
   "source": [
    "###### Read words"
   ]
  },
  {
   "cell_type": "code",
   "execution_count": 2,
   "metadata": {
    "collapsed": true
   },
   "outputs": [],
   "source": [
    "all_words = []"
   ]
  },
  {
   "cell_type": "code",
   "execution_count": 4,
   "metadata": {},
   "outputs": [
    {
     "data": {
      "application/vnd.jupyter.widget-view+json": {
       "model_id": "e2265296460941619e9be0643e2e8588"
      }
     },
     "metadata": {},
     "output_type": "display_data"
    },
    {
     "name": "stdout",
     "output_type": "stream",
     "text": [
      "\n"
     ]
    }
   ],
   "source": [
    "for i in tqdm_notebook(range(1,8)):\n",
    "    with open('a_w_%s.txt' % i) as json_data:\n",
    "        all_words.append(json.load(json_data))"
   ]
  },
  {
   "cell_type": "markdown",
   "metadata": {},
   "source": [
    "##### Read centences"
   ]
  },
  {
   "cell_type": "code",
   "execution_count": 2,
   "metadata": {
    "collapsed": true
   },
   "outputs": [],
   "source": [
    "sentences = []"
   ]
  },
  {
   "cell_type": "code",
   "execution_count": 3,
   "metadata": {},
   "outputs": [
    {
     "data": {
      "application/vnd.jupyter.widget-view+json": {
       "model_id": "75844239e8dd43d08396311feade2f7a"
      }
     },
     "metadata": {},
     "output_type": "display_data"
    },
    {
     "name": "stdout",
     "output_type": "stream",
     "text": [
      "\n"
     ]
    }
   ],
   "source": [
    "for i in tqdm_notebook(range(1,5)):\n",
    "    with open('sentences_%s.txt' % i) as json_data:\n",
    "        sentences.append(json.load(json_data))"
   ]
  },
  {
   "cell_type": "code",
   "execution_count": 5,
   "metadata": {
    "collapsed": true
   },
   "outputs": [],
   "source": [
    "all_sent = []"
   ]
  },
  {
   "cell_type": "code",
   "execution_count": 6,
   "metadata": {},
   "outputs": [
    {
     "data": {
      "application/vnd.jupyter.widget-view+json": {
       "model_id": "1fc75a8033a744328c14279e8d9246a9"
      }
     },
     "metadata": {},
     "output_type": "display_data"
    },
    {
     "data": {
      "application/vnd.jupyter.widget-view+json": {
       "model_id": "47dcc39dea324962afbd02d1e45baba8"
      }
     },
     "metadata": {},
     "output_type": "display_data"
    },
    {
     "data": {
      "application/vnd.jupyter.widget-view+json": {
       "model_id": "2674def67a8b4b7ea94ab61b65ec12d4"
      }
     },
     "metadata": {},
     "output_type": "display_data"
    },
    {
     "data": {
      "application/vnd.jupyter.widget-view+json": {
       "model_id": "03d0f3813f704a90ba5f1fb2b109c51a"
      }
     },
     "metadata": {},
     "output_type": "display_data"
    },
    {
     "data": {
      "application/vnd.jupyter.widget-view+json": {
       "model_id": "fa1ac9078b914c77895a68035c06217a"
      }
     },
     "metadata": {},
     "output_type": "display_data"
    },
    {
     "name": "stdout",
     "output_type": "stream",
     "text": [
      "\n"
     ]
    }
   ],
   "source": [
    "for p in tqdm_notebook(sentences):\n",
    "    for s in tqdm_notebook(p):\n",
    "        all_sent.append(s)"
   ]
  },
  {
   "cell_type": "code",
   "execution_count": 7,
   "metadata": {},
   "outputs": [
    {
     "data": {
      "text/plain": [
       "7797905"
      ]
     },
     "execution_count": 7,
     "metadata": {},
     "output_type": "execute_result"
    }
   ],
   "source": [
    "len(all_sent)"
   ]
  },
  {
   "cell_type": "markdown",
   "metadata": {},
   "source": [
    "###### Delete stop-words"
   ]
  },
  {
   "cell_type": "code",
   "execution_count": 4,
   "metadata": {
    "collapsed": true
   },
   "outputs": [],
   "source": [
    "stop_words = stopwords.words('russian')\n",
    "\n",
    "for i in '!@#$%^&*()_-+=?/\\*,.><:;\"«»„“—–``':\n",
    "    stop_words.append(i)\n",
    "    \n",
    "stop_words = set(stop_words)"
   ]
  },
  {
   "cell_type": "code",
   "execution_count": 5,
   "metadata": {
    "collapsed": true
   },
   "outputs": [],
   "source": [
    "# filtered_words = []\n",
    "# for p in tqdm_notebook(all_words):\n",
    "#     for a in p:\n",
    "#         for w in a:\n",
    "#             if w not in stop_words:\n",
    "#                 filtered_words.append(w) "
   ]
  },
  {
   "cell_type": "code",
   "execution_count": 54,
   "metadata": {
    "collapsed": true
   },
   "outputs": [],
   "source": [
    "del_words = []\n",
    "filtered_sent = []"
   ]
  },
  {
   "cell_type": "code",
   "execution_count": 55,
   "metadata": {
    "scrolled": true
   },
   "outputs": [
    {
     "data": {
      "application/vnd.jupyter.widget-view+json": {
       "model_id": "624756bbd9984cde9a03c047607993b1"
      }
     },
     "metadata": {},
     "output_type": "display_data"
    },
    {
     "data": {
      "application/vnd.jupyter.widget-view+json": {
       "model_id": "eb9f8ba4893741aca85a77e2bf5d0a94"
      }
     },
     "metadata": {},
     "output_type": "display_data"
    },
    {
     "data": {
      "application/vnd.jupyter.widget-view+json": {
       "model_id": "097e101dca524e0b90f6f6fa6bb92460"
      }
     },
     "metadata": {},
     "output_type": "display_data"
    },
    {
     "data": {
      "application/vnd.jupyter.widget-view+json": {
       "model_id": "33670b4752dd4414b54aa8411d9a1155"
      }
     },
     "metadata": {},
     "output_type": "display_data"
    },
    {
     "data": {
      "application/vnd.jupyter.widget-view+json": {
       "model_id": "339e22fdc9194ba4ab3ea98702044ab4"
      }
     },
     "metadata": {},
     "output_type": "display_data"
    },
    {
     "name": "stdout",
     "output_type": "stream",
     "text": [
      "\n"
     ]
    }
   ],
   "source": [
    "for p in tqdm_notebook(sentences):\n",
    "    for s in tqdm_notebook(p):\n",
    "        for w in s:\n",
    "            s[s.index(w)] = w.lower()\n",
    "            if w in stop_words:\n",
    "                s.remove(w)\n",
    "                del_words.append(w)"
   ]
  },
  {
   "cell_type": "code",
   "execution_count": 56,
   "metadata": {
    "collapsed": true
   },
   "outputs": [],
   "source": [
    "# for s in tqdm_notebook(all_sent):\n",
    "#     for w in s:\n",
    "#         if w in stop_words:\n",
    "#             s.remove(w)\n",
    "#             del_words.append(w)"
   ]
  },
  {
   "cell_type": "code",
   "execution_count": 57,
   "metadata": {},
   "outputs": [
    {
     "data": {
      "text/plain": [
       "0"
      ]
     },
     "execution_count": 57,
     "metadata": {},
     "output_type": "execute_result"
    }
   ],
   "source": [
    "len(del_words)"
   ]
  },
  {
   "cell_type": "code",
   "execution_count": 58,
   "metadata": {},
   "outputs": [
    {
     "data": {
      "text/plain": [
       "0"
      ]
     },
     "execution_count": 58,
     "metadata": {},
     "output_type": "execute_result"
    }
   ],
   "source": [
    "len(del_words)"
   ]
  },
  {
   "cell_type": "code",
   "execution_count": 70,
   "metadata": {},
   "outputs": [
    {
     "data": {
      "text/plain": [
       "['8',\n",
       " 'октября',\n",
       " 'заявила',\n",
       " 'ставропольском',\n",
       " 'суде',\n",
       " 'сообщница',\n",
       " 'басаева',\n",
       " 'участница',\n",
       " 'нападения',\n",
       " 'буденновск',\n",
       " 'раиса',\n",
       " 'дундаева']"
      ]
     },
     "execution_count": 70,
     "metadata": {},
     "output_type": "execute_result"
    }
   ],
   "source": [
    "sentences[3][1503000]"
   ]
  },
  {
   "cell_type": "code",
   "execution_count": 64,
   "metadata": {
    "collapsed": true
   },
   "outputs": [],
   "source": [
    "with open('filt_sent_1_vv2.txt', 'w') as filehandle:  \n",
    "    json.dump(sentences[0], filehandle)"
   ]
  },
  {
   "cell_type": "code",
   "execution_count": 65,
   "metadata": {
    "collapsed": true
   },
   "outputs": [],
   "source": [
    "with open('filt_sent_2_vv2.txt', 'w') as filehandle:  \n",
    "    json.dump(sentences[1], filehandle)"
   ]
  },
  {
   "cell_type": "code",
   "execution_count": 66,
   "metadata": {
    "collapsed": true
   },
   "outputs": [],
   "source": [
    "with open('filt_sent_3_vv2.txt', 'w') as filehandle:  \n",
    "    json.dump(sentences[2], filehandle)"
   ]
  },
  {
   "cell_type": "code",
   "execution_count": 67,
   "metadata": {
    "collapsed": true
   },
   "outputs": [],
   "source": [
    "with open('filt_sent_4_vv2.txt', 'w') as filehandle:  \n",
    "    json.dump(sentences[3], filehandle)"
   ]
  },
  {
   "cell_type": "code",
   "execution_count": 44,
   "metadata": {},
   "outputs": [
    {
     "data": {
      "application/vnd.jupyter.widget-view+json": {
       "model_id": "ae3e3551ffb440a191063a319bbe2195"
      }
     },
     "metadata": {},
     "output_type": "display_data"
    },
    {
     "name": "stdout",
     "output_type": "stream",
     "text": [
      "\n"
     ]
    }
   ],
   "source": [
    "for s in tqdm_notebook(all_sent):\n",
    "    for w in s:\n",
    "         w = w.lower()"
   ]
  }
 ],
 "metadata": {
  "kernelspec": {
   "display_name": "Python 3",
   "language": "python",
   "name": "python3"
  },
  "language_info": {
   "codemirror_mode": {
    "name": "ipython",
    "version": 3
   },
   "file_extension": ".py",
   "mimetype": "text/x-python",
   "name": "python",
   "nbconvert_exporter": "python",
   "pygments_lexer": "ipython3",
   "version": "3.6.1"
  }
 },
 "nbformat": 4,
 "nbformat_minor": 2
}
