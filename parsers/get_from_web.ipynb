{
 "cells": [
  {
   "cell_type": "code",
   "execution_count": 102,
   "metadata": {
    "collapsed": true
   },
   "outputs": [],
   "source": [
    "import re\n",
    "import requests\n",
    "from bs4 import BeautifulSoup"
   ]
  },
  {
   "cell_type": "code",
   "execution_count": 103,
   "metadata": {
    "collapsed": true
   },
   "outputs": [],
   "source": [
    "resp = requests.get('https://wikipedia.org/')\n",
    "html = resp.text"
   ]
  },
  {
   "cell_type": "code",
   "execution_count": 7,
   "metadata": {},
   "outputs": [
    {
     "data": {
      "text/plain": [
       "['//commons.wikimedia.org/',\n",
       " '//www.wikivoyage.org/',\n",
       " '//www.wiktionary.org/',\n",
       " '//www.wikibooks.org/',\n",
       " '//www.wikinews.org/',\n",
       " '//www.wikidata.org/',\n",
       " '//www.wikiversity.org/',\n",
       " '//www.wikiquote.org/',\n",
       " '//www.mediawiki.org/',\n",
       " '//www.wikisource.org/',\n",
       " '//species.wikimedia.org/',\n",
       " '//meta.wikimedia.org/']"
      ]
     },
     "execution_count": 7,
     "metadata": {},
     "output_type": "execute_result"
    }
   ],
   "source": [
    "re.findall(r'<a[^>]*other-project-link[^>]*href=\"([^\"]*)', html)"
   ]
  },
  {
   "cell_type": "code",
   "execution_count": 11,
   "metadata": {},
   "outputs": [
    {
     "data": {
      "text/plain": [
       "['//commons.wikimedia.org/',\n",
       " '//www.wikivoyage.org/',\n",
       " '//www.wiktionary.org/',\n",
       " '//www.wikibooks.org/',\n",
       " '//www.wikinews.org/',\n",
       " '//www.wikidata.org/',\n",
       " '//www.wikiversity.org/',\n",
       " '//www.wikiquote.org/',\n",
       " '//www.mediawiki.org/',\n",
       " '//www.wikisource.org/',\n",
       " '//species.wikimedia.org/',\n",
       " '//meta.wikimedia.org/']"
      ]
     },
     "execution_count": 11,
     "metadata": {},
     "output_type": "execute_result"
    }
   ],
   "source": [
    "soup = BeautifulSoup(html, 'lxml')\n",
    "[tag['href'] for tag in soup('a', 'other-project-link')]"
   ]
  },
  {
   "cell_type": "code",
   "execution_count": 41,
   "metadata": {
    "collapsed": true
   },
   "outputs": [],
   "source": [
    "html = \"\"\"<!DOCTYPE html>\n",
    "<html lang=\"en\">\n",
    "  <head>\n",
    "    <title>test page</title>\n",
    "  </head>\n",
    "  <body class=\"mybody\" id=\"js-body\">\n",
    "    <p class=\"text odd\">first <b>bold</b> paragraph</p>\n",
    "    <p class=\"text even\">second <a href=\"https://mail.ru\">link</a></p>\n",
    "    <p class=\"list odd\">third <a id=\"paragraph\"><b>bold link</b></a></p>\n",
    "  </body>\n",
    "</html>\n",
    "\"\"\""
   ]
  },
  {
   "cell_type": "code",
   "execution_count": 42,
   "metadata": {
    "collapsed": true
   },
   "outputs": [],
   "source": [
    "soup = BeautifulSoup(html,'lxml')"
   ]
  },
  {
   "cell_type": "code",
   "execution_count": 43,
   "metadata": {
    "scrolled": true
   },
   "outputs": [
    {
     "name": "stdout",
     "output_type": "stream",
     "text": [
      "<!DOCTYPE html>\n",
      "<html lang=\"en\">\n",
      " <head>\n",
      "  <title>\n",
      "   test page\n",
      "  </title>\n",
      " </head>\n",
      " <body class=\"mybody\" id=\"js-body\">\n",
      "  <p class=\"text odd\">\n",
      "   first\n",
      "   <b>\n",
      "    bold\n",
      "   </b>\n",
      "   paragraph\n",
      "  </p>\n",
      "  <p class=\"text even\">\n",
      "   second\n",
      "   <a href=\"https://mail.ru\">\n",
      "    link\n",
      "   </a>\n",
      "  </p>\n",
      "  <p class=\"list odd\">\n",
      "   third\n",
      "   <a id=\"paragraph\">\n",
      "    <b>\n",
      "     bold link\n",
      "    </b>\n",
      "   </a>\n",
      "  </p>\n",
      " </body>\n",
      "</html>\n",
      "\n"
     ]
    }
   ],
   "source": [
    "print(soup.prettify())"
   ]
  },
  {
   "cell_type": "code",
   "execution_count": 25,
   "metadata": {},
   "outputs": [
    {
     "data": {
      "text/plain": [
       "'js-body'"
      ]
     },
     "execution_count": 25,
     "metadata": {},
     "output_type": "execute_result"
    }
   ],
   "source": [
    "soup.body['id']"
   ]
  },
  {
   "cell_type": "code",
   "execution_count": 29,
   "metadata": {},
   "outputs": [
    {
     "data": {
      "text/plain": [
       "<p class=\"text odd\">first <b>bold</b> paragraph</p>"
      ]
     },
     "execution_count": 29,
     "metadata": {},
     "output_type": "execute_result"
    }
   ],
   "source": [
    "soup.p.b.parent"
   ]
  },
  {
   "cell_type": "code",
   "execution_count": 30,
   "metadata": {},
   "outputs": [
    {
     "data": {
      "text/plain": [
       "['first ', <b>bold</b>, ' paragraph']"
      ]
     },
     "execution_count": 30,
     "metadata": {},
     "output_type": "execute_result"
    }
   ],
   "source": [
    "soup.p.contents"
   ]
  },
  {
   "cell_type": "code",
   "execution_count": 34,
   "metadata": {},
   "outputs": [
    {
     "data": {
      "text/plain": [
       "'js-body'"
      ]
     },
     "execution_count": 34,
     "metadata": {},
     "output_type": "execute_result"
    }
   ],
   "source": [
    "soup.p.b.find_parent('body')['id']"
   ]
  },
  {
   "cell_type": "code",
   "execution_count": 35,
   "metadata": {},
   "outputs": [
    {
     "data": {
      "text/plain": [
       "<p class=\"list odd\">third <a id=\"paragraph\"><b>bold link</b></a></p>"
      ]
     },
     "execution_count": 35,
     "metadata": {},
     "output_type": "execute_result"
    }
   ],
   "source": [
    "soup.p.find_next_sibling(class_='odd')"
   ]
  },
  {
   "cell_type": "code",
   "execution_count": 45,
   "metadata": {},
   "outputs": [
    {
     "data": {
      "text/plain": [
       "['body', 'b', 'b']"
      ]
     },
     "execution_count": 45,
     "metadata": {},
     "output_type": "execute_result"
    }
   ],
   "source": [
    "[i.name for i in soup.find_all(name=re.compile('^b'))]"
   ]
  },
  {
   "cell_type": "code",
   "execution_count": 47,
   "metadata": {},
   "outputs": [
    {
     "data": {
      "text/plain": [
       "<p class=\"text odd\">first <b id=\"myid\">italic</b> paragraph</p>"
      ]
     },
     "execution_count": 47,
     "metadata": {},
     "output_type": "execute_result"
    }
   ],
   "source": [
    "tag = soup.b\n",
    "tag['id'] = 'myid'\n",
    "tag.string = 'italic'\n",
    "soup.p"
   ]
  },
  {
   "cell_type": "code",
   "execution_count": 48,
   "metadata": {},
   "outputs": [
    {
     "data": {
      "text/plain": [
       "<!DOCTYPE html>\n",
       "<html lang=\"en\">\n",
       "<head>\n",
       "<title>test page</title>\n",
       "</head>\n",
       "<body class=\"mybody\" id=\"js-body\">\n",
       "<p class=\"text odd\">first <b id=\"myid\">italic</b> paragraph</p>\n",
       "<p class=\"text even\">second <a href=\"https://mail.ru\">link</a></p>\n",
       "<p class=\"list odd\">third <a id=\"paragraph\"><b>bold link</b></a></p>\n",
       "</body>\n",
       "</html>"
      ]
     },
     "execution_count": 48,
     "metadata": {},
     "output_type": "execute_result"
    }
   ],
   "source": [
    "sou"
   ]
  },
  {
   "cell_type": "markdown",
   "metadata": {},
   "source": [
    "### Parse mail.ru news"
   ]
  },
  {
   "cell_type": "code",
   "execution_count": 94,
   "metadata": {
    "collapsed": true
   },
   "outputs": [],
   "source": [
    "import requests\n",
    "result = requests.get(\"https://news.mail.ru/\")\n",
    "soup = BeautifulSoup(result.content, \"lxml\")"
   ]
  },
  {
   "cell_type": "code",
   "execution_count": 95,
   "metadata": {},
   "outputs": [
    {
     "data": {
      "text/plain": [
       "[('Новости Москвы',\n",
       "  ['Дорогу пешеходам. Скорость в\\xa0центре Москвы ограничат до\\xa040 км/ч',\n",
       "   'Следствие попросило отпустить из\\xa0СИЗО сестер Хачатурян',\n",
       "   'Два рекорда Гиннесса и\\xa0миллионы зрителей: итоги «Круга света»',\n",
       "   'Ликсутов рассказал о\\xa0новых ограничениях скорости в\\xa0Москве',\n",
       "   'Кадастровая стоимость в Москве и области изменилась',\n",
       "   'РЖД готовы сами возить пассажиров в «Шереметьево»']),\n",
       " ('Политика',\n",
       "  ['Косачев призвал Совет ООН изменить своё отношение к Крыму',\n",
       "   'Памфилова не исключила проведения новых выборов в Хакасии за счет уходящего губернатора',\n",
       "   'Никитин вступил в должность губернатора Нижегородской области',\n",
       "   'Володин пожурил депутатов-коммунистов за протестные футболки']),\n",
       " ('Экономика',\n",
       "  ['Центробанк расширит функционал «тайных покупателей»',\n",
       "   'Искусственный интеллект займется диагнозами',\n",
       "   'Долг по необеспеченным потребительским кредитам вырос до 6,7 трлн рублей',\n",
       "   'Эксперты рассказали о росте четырех секторов экономики']),\n",
       " ('Общество',\n",
       "  ['Провал «восстания машин». Как компьютер чуть не начал ядерную войну',\n",
       "   'Лишь 6% российских отпускников выехали за рубеж летом 2018 года',\n",
       "   'Рыбу кислотных цветов назвали в честь Афродиты',\n",
       "   'Тайна фиолетового апельсина раскрыта австралийскими учеными']),\n",
       " ('События',\n",
       "  ['Пресс-секретаря Роскомнадзора отпустили из-под домашнего ареста',\n",
       "   'Следствие попросило отпустить из СИЗО обвиняемых в убийстве отца сестер Хачатурян',\n",
       "   'Режим ЧС ввели в Челябинске из-за мусорного коллапса',\n",
       "   'Муссоны в Индии: потоки воды сносят даже автобусы']),\n",
       " ('Справки',\n",
       "  ['Первые итоги Восточного экономического форума во\\xa0Владивостоке',\n",
       "   'Что стало известно из отчета полиции об отравлении в Солсбери',\n",
       "   '«Драконовские» меры: США готовятся ввести самые жесткие санкции против России',\n",
       "   'Что изменилось после встречи Кима и Трампа? Объясняем в 300 словах']),\n",
       " ('Фоторепортажи',\n",
       "  ['Находка десятилетия',\n",
       "   'В Воронежской области столкнулись два пассажирских автобуса',\n",
       "   'Брифинг Министерства обороны РФ по крушению «Боинга-777»',\n",
       "   'Идем на «Восток»',\n",
       "   'Торжества в честь 70-летия КНДР',\n",
       "   'От заката до рассвета',\n",
       "   'Британия назвала имена россиян, подозреваемых в отравлении Скрипалей',\n",
       "   'Тайфун «Джеби» может стать самым мощным за четверть века',\n",
       "   'Китай всерьез занялся гидроэнергетическими проектами',\n",
       "   'Владимир Путин провел выходные в Тыве']),\n",
       " ('Спорт', []),\n",
       " ('Hi-Tech', []),\n",
       " ('Hi-Tech', []),\n",
       " ('Кино', []),\n",
       " ('Недвижимость', []),\n",
       " ('Дети', []),\n",
       " ('Леди', []),\n",
       " ('Все о ремонте', [])]"
      ]
     },
     "execution_count": 95,
     "metadata": {},
     "output_type": "execute_result"
    }
   ],
   "source": [
    "[\n",
    "    (\n",
    "        section.string,\n",
    "        [\n",
    "             header.string for header in section.find_parents()[4].find_all(\n",
    "                 class_=['newsitem__title-inner','link__text', 'collections__title', 'photo__title']\n",
    "             )\n",
    "        ]\n",
    "    ) for section in soup(class_=\"hdr__inner\")\n",
    "]"
   ]
  },
  {
   "cell_type": "markdown",
   "metadata": {},
   "source": [
    "# API"
   ]
  },
  {
   "cell_type": "markdown",
   "metadata": {},
   "source": [
    "#### ЦБ"
   ]
  },
  {
   "cell_type": "code",
   "execution_count": 99,
   "metadata": {
    "collapsed": true
   },
   "outputs": [],
   "source": [
    "resp = requests.get('http://www.cbr.ru/scripts/XML_daily.asp')\n",
    "soup = BeautifulSoup(resp.content, 'xml')"
   ]
  },
  {
   "cell_type": "code",
   "execution_count": 100,
   "metadata": {},
   "outputs": [
    {
     "data": {
      "text/plain": [
       "'77,3846'"
      ]
     },
     "execution_count": 100,
     "metadata": {},
     "output_type": "execute_result"
    }
   ],
   "source": [
    "soup.find('CharCode', text='EUR').find_next_sibling('Value').string"
   ]
  },
  {
   "cell_type": "code",
   "execution_count": 101,
   "metadata": {},
   "outputs": [
    {
     "data": {
      "text/plain": [
       "'77,3846'"
      ]
     },
     "execution_count": 101,
     "metadata": {},
     "output_type": "execute_result"
    }
   ],
   "source": [
    "soup.find(ID='R01239').Value.string"
   ]
  },
  {
   "cell_type": "markdown",
   "metadata": {},
   "source": [
    "#### weathermap"
   ]
  },
  {
   "cell_type": "markdown",
   "metadata": {},
   "source": [
    "get API key "
   ]
  },
  {
   "cell_type": "code",
   "execution_count": 76,
   "metadata": {
    "collapsed": true
   },
   "outputs": [],
   "source": [
    "# resp = requests.get(\n",
    "#     'http://api.openweathermap.org/data/2.5/weather',\n",
    "#     params={\n",
    "#         'q' : 'Vladivostok'\n",
    "#         'APPID': '7543b0d800ce423bab3b2f6ad38df30b'\n",
    "#         'mode' : 'xml', 'unite' : 'metric'\n",
    "#     }\n",
    "# )\n",
    "# soup = BeautifulSoup(resp.content, 'xml')\n",
    "# soup.temperature('value')"
   ]
  },
  {
   "cell_type": "code",
   "execution_count": 78,
   "metadata": {
    "collapsed": true
   },
   "outputs": [],
   "source": [
    "# resp = requests.get(\n",
    "#     'http://api.openweathermap.org/data/2.5/weather',\n",
    "#     params={\n",
    "#         'q' : 'Vladivostok'\n",
    "#         'APPID': '7543b0d800ce423bab3b2f6ad38df30b'\n",
    "#         'mode' : 'json', 'unite' : 'metric'\n",
    "#     }\n",
    "# )\n",
    "# data = resp.json()\n",
    "# data['main']['temp']"
   ]
  },
  {
   "cell_type": "markdown",
   "metadata": {},
   "source": [
    "#### vk api"
   ]
  },
  {
   "cell_type": "markdown",
   "metadata": {},
   "source": [
    "get user info"
   ]
  },
  {
   "cell_type": "code",
   "execution_count": 85,
   "metadata": {},
   "outputs": [
    {
     "data": {
      "text/plain": [
       "{'error': {'error_code': 5,\n",
       "  'error_msg': 'User authorization failed: no access_token passed.',\n",
       "  'request_params': [{'key': 'oauth', 'value': '1'},\n",
       "   {'key': 'method', 'value': 'users.get'},\n",
       "   {'key': 'user_id', 'value': '210700286'}]}}"
      ]
     },
     "execution_count": 85,
     "metadata": {},
     "output_type": "execute_result"
    }
   ],
   "source": [
    "resp = requests.get(\n",
    "    'https://api.vk.com/method/users.get',\n",
    "    params = { 'user_id': '210700286',\n",
    "             }\n",
    ")\n",
    "resp.json()"
   ]
  },
  {
   "cell_type": "code",
   "execution_count": 91,
   "metadata": {
    "collapsed": true
   },
   "outputs": [
    {
     "ename": "VkAPIError",
     "evalue": "5. User authorization failed: no access_token passed.. request_params = {'oauth': '1', 'method': 'users.get', 'user_ids': '1'}",
     "output_type": "error",
     "traceback": [
      "\u001b[0;31m---------------------------------------------------------------------------\u001b[0m",
      "\u001b[0;31mVkAPIError\u001b[0m                                Traceback (most recent call last)",
      "\u001b[0;32m<ipython-input-91-9a92bfcc76af>\u001b[0m in \u001b[0;36m<module>\u001b[0;34m()\u001b[0m\n\u001b[1;32m      2\u001b[0m \u001b[0msession\u001b[0m \u001b[0;34m=\u001b[0m \u001b[0mvk\u001b[0m\u001b[0;34m.\u001b[0m\u001b[0mSession\u001b[0m\u001b[0;34m(\u001b[0m\u001b[0;34m)\u001b[0m\u001b[0;34m\u001b[0m\u001b[0m\n\u001b[1;32m      3\u001b[0m \u001b[0mapi\u001b[0m \u001b[0;34m=\u001b[0m \u001b[0mvk\u001b[0m\u001b[0;34m.\u001b[0m\u001b[0mAPI\u001b[0m\u001b[0;34m(\u001b[0m\u001b[0msession\u001b[0m\u001b[0;34m)\u001b[0m\u001b[0;34m\u001b[0m\u001b[0m\n\u001b[0;32m----> 4\u001b[0;31m \u001b[0mapi\u001b[0m\u001b[0;34m.\u001b[0m\u001b[0musers\u001b[0m\u001b[0;34m.\u001b[0m\u001b[0mget\u001b[0m\u001b[0;34m(\u001b[0m\u001b[0muser_ids\u001b[0m\u001b[0;34m=\u001b[0m\u001b[0;36m1\u001b[0m\u001b[0;34m)\u001b[0m\u001b[0;34m\u001b[0m\u001b[0m\n\u001b[0m",
      "\u001b[0;32m/home/ubuntu/anaconda3/lib/python3.6/site-packages/vk/api.py\u001b[0m in \u001b[0;36m__call__\u001b[0;34m(self, **method_args)\u001b[0m\n\u001b[1;32m    171\u001b[0m     \u001b[0;32mdef\u001b[0m \u001b[0m__call__\u001b[0m\u001b[0;34m(\u001b[0m\u001b[0mself\u001b[0m\u001b[0;34m,\u001b[0m \u001b[0;34m**\u001b[0m\u001b[0mmethod_args\u001b[0m\u001b[0;34m)\u001b[0m\u001b[0;34m:\u001b[0m\u001b[0;34m\u001b[0m\u001b[0m\n\u001b[1;32m    172\u001b[0m         \u001b[0mself\u001b[0m\u001b[0;34m.\u001b[0m\u001b[0m_method_args\u001b[0m \u001b[0;34m=\u001b[0m \u001b[0mmethod_args\u001b[0m\u001b[0;34m\u001b[0m\u001b[0m\n\u001b[0;32m--> 173\u001b[0;31m         \u001b[0;32mreturn\u001b[0m \u001b[0mself\u001b[0m\u001b[0;34m.\u001b[0m\u001b[0m_api\u001b[0m\u001b[0;34m.\u001b[0m\u001b[0m_session\u001b[0m\u001b[0;34m.\u001b[0m\u001b[0mmake_request\u001b[0m\u001b[0;34m(\u001b[0m\u001b[0mself\u001b[0m\u001b[0;34m)\u001b[0m\u001b[0;34m\u001b[0m\u001b[0m\n\u001b[0m\u001b[1;32m    174\u001b[0m \u001b[0;34m\u001b[0m\u001b[0m\n\u001b[1;32m    175\u001b[0m \u001b[0;34m\u001b[0m\u001b[0m\n",
      "\u001b[0;32m/home/ubuntu/anaconda3/lib/python3.6/site-packages/vk/api.py\u001b[0m in \u001b[0;36mmake_request\u001b[0;34m(self, method_request, captcha_response)\u001b[0m\n\u001b[1;32m    100\u001b[0m \u001b[0;34m\u001b[0m\u001b[0m\n\u001b[1;32m    101\u001b[0m                 \u001b[0;32melse\u001b[0m\u001b[0;34m:\u001b[0m\u001b[0;34m\u001b[0m\u001b[0m\n\u001b[0;32m--> 102\u001b[0;31m                     \u001b[0;32mraise\u001b[0m \u001b[0merror\u001b[0m\u001b[0;34m\u001b[0m\u001b[0m\n\u001b[0m\u001b[1;32m    103\u001b[0m \u001b[0;34m\u001b[0m\u001b[0m\n\u001b[1;32m    104\u001b[0m     \u001b[0;32mdef\u001b[0m \u001b[0msend_api_request\u001b[0m\u001b[0;34m(\u001b[0m\u001b[0mself\u001b[0m\u001b[0;34m,\u001b[0m \u001b[0mrequest\u001b[0m\u001b[0;34m,\u001b[0m \u001b[0mcaptcha_response\u001b[0m\u001b[0;34m=\u001b[0m\u001b[0;32mNone\u001b[0m\u001b[0;34m)\u001b[0m\u001b[0;34m:\u001b[0m\u001b[0;34m\u001b[0m\u001b[0m\n",
      "\u001b[0;31mVkAPIError\u001b[0m: 5. User authorization failed: no access_token passed.. request_params = {'oauth': '1', 'method': 'users.get', 'user_ids': '1'}"
     ]
    }
   ],
   "source": [
    "import vk\n",
    "session = vk.Session()\n",
    "api = vk.API(session)\n",
    "api.users.get(user_ids=1)"
   ]
  },
  {
   "cell_type": "code",
   "execution_count": 93,
   "metadata": {
    "collapsed": true
   },
   "outputs": [
    {
     "ename": "VkAPIError",
     "evalue": "8. Invalid request: v (version) is required. request_params = {'oauth': '1', 'method': 'groups.get', 'extended': '1'}",
     "output_type": "error",
     "traceback": [
      "\u001b[0;31m---------------------------------------------------------------------------\u001b[0m",
      "\u001b[0;31mVkAPIError\u001b[0m                                Traceback (most recent call last)",
      "\u001b[0;32m<ipython-input-93-261b888313ab>\u001b[0m in \u001b[0;36m<module>\u001b[0;34m()\u001b[0m\n\u001b[1;32m      5\u001b[0m )\n\u001b[1;32m      6\u001b[0m \u001b[0mapi\u001b[0m \u001b[0;34m=\u001b[0m \u001b[0mvk\u001b[0m\u001b[0;34m.\u001b[0m\u001b[0mAPI\u001b[0m\u001b[0;34m(\u001b[0m\u001b[0msession\u001b[0m\u001b[0;34m)\u001b[0m\u001b[0;34m\u001b[0m\u001b[0m\n\u001b[0;32m----> 7\u001b[0;31m \u001b[0mapi\u001b[0m\u001b[0;34m.\u001b[0m\u001b[0mgroups\u001b[0m\u001b[0;34m.\u001b[0m\u001b[0mget\u001b[0m\u001b[0;34m(\u001b[0m\u001b[0mextended\u001b[0m\u001b[0;34m=\u001b[0m\u001b[0;36m1\u001b[0m\u001b[0;34m)\u001b[0m\u001b[0;34m\u001b[0m\u001b[0m\n\u001b[0m",
      "\u001b[0;32m/home/ubuntu/anaconda3/lib/python3.6/site-packages/vk/api.py\u001b[0m in \u001b[0;36m__call__\u001b[0;34m(self, **method_args)\u001b[0m\n\u001b[1;32m    171\u001b[0m     \u001b[0;32mdef\u001b[0m \u001b[0m__call__\u001b[0m\u001b[0;34m(\u001b[0m\u001b[0mself\u001b[0m\u001b[0;34m,\u001b[0m \u001b[0;34m**\u001b[0m\u001b[0mmethod_args\u001b[0m\u001b[0;34m)\u001b[0m\u001b[0;34m:\u001b[0m\u001b[0;34m\u001b[0m\u001b[0m\n\u001b[1;32m    172\u001b[0m         \u001b[0mself\u001b[0m\u001b[0;34m.\u001b[0m\u001b[0m_method_args\u001b[0m \u001b[0;34m=\u001b[0m \u001b[0mmethod_args\u001b[0m\u001b[0;34m\u001b[0m\u001b[0m\n\u001b[0;32m--> 173\u001b[0;31m         \u001b[0;32mreturn\u001b[0m \u001b[0mself\u001b[0m\u001b[0;34m.\u001b[0m\u001b[0m_api\u001b[0m\u001b[0;34m.\u001b[0m\u001b[0m_session\u001b[0m\u001b[0;34m.\u001b[0m\u001b[0mmake_request\u001b[0m\u001b[0;34m(\u001b[0m\u001b[0mself\u001b[0m\u001b[0;34m)\u001b[0m\u001b[0;34m\u001b[0m\u001b[0m\n\u001b[0m\u001b[1;32m    174\u001b[0m \u001b[0;34m\u001b[0m\u001b[0m\n\u001b[1;32m    175\u001b[0m \u001b[0;34m\u001b[0m\u001b[0m\n",
      "\u001b[0;32m/home/ubuntu/anaconda3/lib/python3.6/site-packages/vk/api.py\u001b[0m in \u001b[0;36mmake_request\u001b[0;34m(self, method_request, captcha_response)\u001b[0m\n\u001b[1;32m    100\u001b[0m \u001b[0;34m\u001b[0m\u001b[0m\n\u001b[1;32m    101\u001b[0m                 \u001b[0;32melse\u001b[0m\u001b[0;34m:\u001b[0m\u001b[0;34m\u001b[0m\u001b[0m\n\u001b[0;32m--> 102\u001b[0;31m                     \u001b[0;32mraise\u001b[0m \u001b[0merror\u001b[0m\u001b[0;34m\u001b[0m\u001b[0m\n\u001b[0m\u001b[1;32m    103\u001b[0m \u001b[0;34m\u001b[0m\u001b[0m\n\u001b[1;32m    104\u001b[0m     \u001b[0;32mdef\u001b[0m \u001b[0msend_api_request\u001b[0m\u001b[0;34m(\u001b[0m\u001b[0mself\u001b[0m\u001b[0;34m,\u001b[0m \u001b[0mrequest\u001b[0m\u001b[0;34m,\u001b[0m \u001b[0mcaptcha_response\u001b[0m\u001b[0;34m=\u001b[0m\u001b[0;32mNone\u001b[0m\u001b[0;34m)\u001b[0m\u001b[0;34m:\u001b[0m\u001b[0;34m\u001b[0m\u001b[0m\n",
      "\u001b[0;31mVkAPIError\u001b[0m: 8. Invalid request: v (version) is required. request_params = {'oauth': '1', 'method': 'groups.get', 'extended': '1'}"
     ]
    }
   ],
   "source": [
    "session = vk.AuthSession(\n",
    "        app_id=6238794,\n",
    "        user_login = '89146963792',\n",
    "        user_password = '99195022Asd31415926535'\n",
    ")\n",
    "api = vk.API(session)\n",
    "api.groups.get(extended=1)"
   ]
  },
  {
   "cell_type": "code",
   "execution_count": null,
   "metadata": {
    "collapsed": true
   },
   "outputs": [],
   "source": []
  }
 ],
 "metadata": {
  "kernelspec": {
   "display_name": "Python 3",
   "language": "python",
   "name": "python3"
  },
  "language_info": {
   "codemirror_mode": {
    "name": "ipython",
    "version": 3
   },
   "file_extension": ".py",
   "mimetype": "text/x-python",
   "name": "python",
   "nbconvert_exporter": "python",
   "pygments_lexer": "ipython3",
   "version": "3.6.1"
  }
 },
 "nbformat": 4,
 "nbformat_minor": 2
}
